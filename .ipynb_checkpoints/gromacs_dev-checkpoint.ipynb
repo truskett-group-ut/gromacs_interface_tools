{
 "cells": [
  {
   "cell_type": "markdown",
   "metadata": {},
   "source": [
    "### Test of the gromacs table maker"
   ]
  },
  {
   "cell_type": "code",
   "execution_count": 1,
   "metadata": {
    "collapsed": false
   },
   "outputs": [],
   "source": [
    "import sys\n",
    "sys.path.insert(0, \"..\")"
   ]
  },
  {
   "cell_type": "code",
   "execution_count": 2,
   "metadata": {
    "collapsed": false
   },
   "outputs": [
    {
     "name": "stdout",
     "output_type": "stream",
     "text": [
      "['..', '', 'C:\\\\Users\\\\rbj428\\\\AppData\\\\Local\\\\Continuum\\\\Anaconda2_3\\\\python27.zip', 'C:\\\\Users\\\\rbj428\\\\AppData\\\\Local\\\\Continuum\\\\Anaconda2_3\\\\DLLs', 'C:\\\\Users\\\\rbj428\\\\AppData\\\\Local\\\\Continuum\\\\Anaconda2_3\\\\lib', 'C:\\\\Users\\\\rbj428\\\\AppData\\\\Local\\\\Continuum\\\\Anaconda2_3\\\\lib\\\\plat-win', 'C:\\\\Users\\\\rbj428\\\\AppData\\\\Local\\\\Continuum\\\\Anaconda2_3\\\\lib\\\\lib-tk', 'C:\\\\Users\\\\rbj428\\\\AppData\\\\Local\\\\Continuum\\\\Anaconda2_3', 'C:\\\\Users\\\\rbj428\\\\AppData\\\\Local\\\\Continuum\\\\Anaconda2_3\\\\lib\\\\site-packages', 'C:\\\\Users\\\\rbj428\\\\AppData\\\\Local\\\\Continuum\\\\Anaconda2_3\\\\lib\\\\site-packages\\\\Sphinx-1.5.1-py2.7.egg', 'C:\\\\Users\\\\rbj428\\\\AppData\\\\Local\\\\Continuum\\\\Anaconda2_3\\\\lib\\\\site-packages\\\\win32', 'C:\\\\Users\\\\rbj428\\\\AppData\\\\Local\\\\Continuum\\\\Anaconda2_3\\\\lib\\\\site-packages\\\\win32\\\\lib', 'C:\\\\Users\\\\rbj428\\\\AppData\\\\Local\\\\Continuum\\\\Anaconda2_3\\\\lib\\\\site-packages\\\\Pythonwin', 'C:\\\\Users\\\\rbj428\\\\AppData\\\\Local\\\\Continuum\\\\Anaconda2_3\\\\lib\\\\site-packages\\\\sputnik-0.9.3-py2.7.egg', 'C:\\\\Users\\\\rbj428\\\\AppData\\\\Local\\\\Continuum\\\\Anaconda2_3\\\\lib\\\\site-packages\\\\IPython\\\\extensions', 'C:\\\\Users\\\\rbj428\\\\.ipython']\n"
     ]
    }
   ],
   "source": [
    "print sys.path"
   ]
  },
  {
   "cell_type": "markdown",
   "metadata": {},
   "source": [
    "**Make the potential**"
   ]
  },
  {
   "cell_type": "code",
   "execution_count": 3,
   "metadata": {
    "collapsed": false
   },
   "outputs": [],
   "source": [
    "from potentials import potential_combiner"
   ]
  },
  {
   "cell_type": "code",
   "execution_count": 4,
   "metadata": {
    "collapsed": true
   },
   "outputs": [],
   "source": [
    "potential_specs = [('wca', 'weeks_chandler_anderson', None), \n",
    "                   ('dep', 'depletion', None), \n",
    "                   ('elec', 'electrostatic_dlvo', None)]"
   ]
  },
  {
   "cell_type": "code",
   "execution_count": 5,
   "metadata": {
    "collapsed": true
   },
   "outputs": [],
   "source": [
    "potential = potential_combiner.Potential(potential_specs)"
   ]
  },
  {
   "cell_type": "code",
   "execution_count": 6,
   "metadata": {
    "collapsed": true
   },
   "outputs": [],
   "source": [
    "params_val = {'wca__d': True, 'wca__epsilon': True, 'wca__alpha': False, 'wca__max_ur': False, \n",
    "              'dep__rho_p': True, 'dep__d_p': True, 'dep__d': False, 'dep__w': False, \n",
    "              'elec__A': True, 'elec__z': True}"
   ]
  },
  {
   "cell_type": "code",
   "execution_count": 7,
   "metadata": {
    "collapsed": false
   },
   "outputs": [],
   "source": [
    "potential.SetParamsState(params_val)"
   ]
  },
  {
   "cell_type": "code",
   "execution_count": null,
   "metadata": {
    "collapsed": true
   },
   "outputs": [],
   "source": []
  },
  {
   "cell_type": "markdown",
   "metadata": {},
   "source": [
    "**Create the table maker**"
   ]
  },
  {
   "cell_type": "code",
   "execution_count": 8,
   "metadata": {
    "collapsed": true
   },
   "outputs": [],
   "source": [
    "from gromacs_interface_tools import gromacs_potential_maker"
   ]
  },
  {
   "cell_type": "code",
   "execution_count": 9,
   "metadata": {
    "collapsed": false
   },
   "outputs": [],
   "source": [
    "gromacs_potential_maker = gromacs_potential_maker.SimulationPotentialConverter()"
   ]
  },
  {
   "cell_type": "code",
   "execution_count": 10,
   "metadata": {
    "collapsed": true
   },
   "outputs": [],
   "source": [
    "params_val = {'wca__d': 1.0, 'wca__epsilon': 1.0, 'wca__alpha': 6.0, 'wca__max_ur': float(1e6), \n",
    "              'dep__rho_p': 6.0, 'dep__d_p': 0.6, 'dep__d': 1.0, 'dep__w': 50.0, \n",
    "              'elec__A': 1.0, 'elec__z': 2.0}"
   ]
  },
  {
   "cell_type": "code",
   "execution_count": 11,
   "metadata": {
    "collapsed": false
   },
   "outputs": [],
   "source": [
    "gromacs_potential_maker.LoadPotential(potential, params_val)"
   ]
  },
  {
   "cell_type": "code",
   "execution_count": 12,
   "metadata": {
    "collapsed": false
   },
   "outputs": [],
   "source": [
    "gromacs_potential_maker.TabulatePotential(r_table_max=15.0, dr=0.01)"
   ]
  },
  {
   "cell_type": "code",
   "execution_count": 13,
   "metadata": {
    "collapsed": false
   },
   "outputs": [],
   "source": [
    "gromacs_potential_maker.CutShiftTabulated(e_max=0.1, f_max=0.01, r_max=8.0, shift=False)"
   ]
  },
  {
   "cell_type": "code",
   "execution_count": 14,
   "metadata": {
    "collapsed": false
   },
   "outputs": [],
   "source": [
    "gromacs_potential_maker.MakeTable(filename='./example_table.xvg')"
   ]
  },
  {
   "cell_type": "code",
   "execution_count": 15,
   "metadata": {
    "collapsed": false
   },
   "outputs": [],
   "source": [
    "gromacs_potential_maker.InsertGromppCutoff(filename='./example_grompp.mdp')"
   ]
  },
  {
   "cell_type": "code",
   "execution_count": null,
   "metadata": {
    "collapsed": true
   },
   "outputs": [],
   "source": []
  },
  {
   "cell_type": "code",
   "execution_count": null,
   "metadata": {
    "collapsed": true
   },
   "outputs": [],
   "source": []
  }
 ],
 "metadata": {
  "kernelspec": {
   "display_name": "Python 2",
   "language": "python",
   "name": "python2"
  },
  "language_info": {
   "codemirror_mode": {
    "name": "ipython",
    "version": 2
   },
   "file_extension": ".py",
   "mimetype": "text/x-python",
   "name": "python",
   "nbconvert_exporter": "python",
   "pygments_lexer": "ipython2",
   "version": "2.7.13"
  }
 },
 "nbformat": 4,
 "nbformat_minor": 2
}
