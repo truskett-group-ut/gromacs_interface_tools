{
 "cells": [
  {
   "cell_type": "markdown",
   "metadata": {},
   "source": [
    "### Test of the gromacs table maker"
   ]
  },
  {
   "cell_type": "code",
   "execution_count": 1,
   "metadata": {
    "collapsed": false
   },
   "outputs": [],
   "source": [
    "import sys\n",
    "sys.path.insert(0, \"..\")"
   ]
  },
  {
   "cell_type": "code",
   "execution_count": 2,
   "metadata": {
    "collapsed": false
   },
   "outputs": [
    {
     "name": "stdout",
     "output_type": "stream",
     "text": [
      "['..', '', 'C:\\\\Users\\\\rbj428\\\\AppData\\\\Local\\\\Continuum\\\\Anaconda2_3\\\\python27.zip', 'C:\\\\Users\\\\rbj428\\\\AppData\\\\Local\\\\Continuum\\\\Anaconda2_3\\\\DLLs', 'C:\\\\Users\\\\rbj428\\\\AppData\\\\Local\\\\Continuum\\\\Anaconda2_3\\\\lib', 'C:\\\\Users\\\\rbj428\\\\AppData\\\\Local\\\\Continuum\\\\Anaconda2_3\\\\lib\\\\plat-win', 'C:\\\\Users\\\\rbj428\\\\AppData\\\\Local\\\\Continuum\\\\Anaconda2_3\\\\lib\\\\lib-tk', 'C:\\\\Users\\\\rbj428\\\\AppData\\\\Local\\\\Continuum\\\\Anaconda2_3', 'C:\\\\Users\\\\rbj428\\\\AppData\\\\Local\\\\Continuum\\\\Anaconda2_3\\\\lib\\\\site-packages', 'C:\\\\Users\\\\rbj428\\\\AppData\\\\Local\\\\Continuum\\\\Anaconda2_3\\\\lib\\\\site-packages\\\\Sphinx-1.5.1-py2.7.egg', 'C:\\\\Users\\\\rbj428\\\\AppData\\\\Local\\\\Continuum\\\\Anaconda2_3\\\\lib\\\\site-packages\\\\win32', 'C:\\\\Users\\\\rbj428\\\\AppData\\\\Local\\\\Continuum\\\\Anaconda2_3\\\\lib\\\\site-packages\\\\win32\\\\lib', 'C:\\\\Users\\\\rbj428\\\\AppData\\\\Local\\\\Continuum\\\\Anaconda2_3\\\\lib\\\\site-packages\\\\Pythonwin', 'C:\\\\Users\\\\rbj428\\\\AppData\\\\Local\\\\Continuum\\\\Anaconda2_3\\\\lib\\\\site-packages\\\\sputnik-0.9.3-py2.7.egg', 'C:\\\\Users\\\\rbj428\\\\AppData\\\\Local\\\\Continuum\\\\Anaconda2_3\\\\lib\\\\site-packages\\\\IPython\\\\extensions', 'C:\\\\Users\\\\rbj428\\\\.ipython']\n"
     ]
    }
   ],
   "source": [
    "print sys.path"
   ]
  },
  {
   "cell_type": "markdown",
   "metadata": {},
   "source": [
    "**Make the potential**"
   ]
  },
  {
   "cell_type": "code",
   "execution_count": 3,
   "metadata": {
    "collapsed": false
   },
   "outputs": [],
   "source": [
    "from potentials import potential_combiner"
   ]
  },
  {
   "cell_type": "code",
   "execution_count": 4,
   "metadata": {
    "collapsed": true
   },
   "outputs": [],
   "source": [
    "potential_specs = {'wca': 'weeks_chandler_anderson',\n",
    "                   'dep': 'depletion',\n",
    "                   'elec': 'electrostatic_dlvo'}"
   ]
  },
  {
   "cell_type": "code",
   "execution_count": 5,
   "metadata": {
    "collapsed": false
   },
   "outputs": [],
   "source": [
    "potential = potential_combiner.Potential(potential_specs)"
   ]
  },
  {
   "cell_type": "code",
   "execution_count": 6,
   "metadata": {
    "collapsed": true
   },
   "outputs": [],
   "source": [
    "params_val = {'wca__d': True, 'wca__epsilon': True, 'wca__alpha': False, 'wca__max_ur': False, \n",
    "              'dep__rho_p': True, 'dep__d_p': True, 'dep__d': False, 'dep__w': False, \n",
    "              'elec__A': True, 'elec__z': True}"
   ]
  },
  {
   "cell_type": "code",
   "execution_count": 7,
   "metadata": {
    "collapsed": false
   },
   "outputs": [],
   "source": [
    "potential.SetParamsState(params_val)"
   ]
  },
  {
   "cell_type": "code",
   "execution_count": null,
   "metadata": {
    "collapsed": true
   },
   "outputs": [],
   "source": []
  },
  {
   "cell_type": "markdown",
   "metadata": {},
   "source": [
    "**Create the table maker**"
   ]
  },
  {
   "cell_type": "code",
   "execution_count": 8,
   "metadata": {
    "collapsed": false
   },
   "outputs": [],
   "source": [
    "from gromacs_interface_tools import gromacs_potential_maker"
   ]
  },
  {
   "cell_type": "code",
   "execution_count": 9,
   "metadata": {
    "collapsed": false
   },
   "outputs": [],
   "source": [
    "gromacs_potential_maker = gromacs_potential_maker.SimulationPotentialConverter()"
   ]
  },
  {
   "cell_type": "code",
   "execution_count": 10,
   "metadata": {
    "collapsed": true
   },
   "outputs": [],
   "source": [
    "params_val = {'wca__d': 1.0, 'wca__epsilon': 1.0, 'wca__alpha': 6.0, 'wca__max_ur': float(1e6), \n",
    "              'dep__rho_p': 6.0, 'dep__d_p': 0.6, 'dep__d': 1.0, 'dep__w': 50.0, \n",
    "              'elec__A': 1.0, 'elec__z': 2.0}"
   ]
  },
  {
   "cell_type": "code",
   "execution_count": 11,
   "metadata": {
    "collapsed": false
   },
   "outputs": [],
   "source": [
    "gromacs_potential_maker.LoadPotential(potential, params_val)"
   ]
  },
  {
   "cell_type": "code",
   "execution_count": 12,
   "metadata": {
    "collapsed": false
   },
   "outputs": [],
   "source": [
    "gromacs_potential_maker.TabulatePotential(r_table_max=15.0, dr=0.01)"
   ]
  },
  {
   "cell_type": "code",
   "execution_count": 13,
   "metadata": {
    "collapsed": false
   },
   "outputs": [],
   "source": [
    "gromacs_potential_maker.CutShiftTabulated(e_max=0.1, f_max=0.01, r_max=8.0, shift=False)"
   ]
  },
  {
   "cell_type": "code",
   "execution_count": 14,
   "metadata": {
    "collapsed": false
   },
   "outputs": [],
   "source": [
    "gromacs_potential_maker.MakeTable(filename='./example_table.xvg')"
   ]
  },
  {
   "cell_type": "code",
   "execution_count": 15,
   "metadata": {
    "collapsed": false
   },
   "outputs": [],
   "source": [
    "gromacs_potential_maker.InsertGromppCutoff(filename='./example_grompp.mdp')"
   ]
  },
  {
   "cell_type": "code",
   "execution_count": null,
   "metadata": {
    "collapsed": true
   },
   "outputs": [],
   "source": []
  },
  {
   "cell_type": "code",
   "execution_count": 17,
   "metadata": {
    "collapsed": true
   },
   "outputs": [],
   "source": [
    "import json\n",
    "import sys\n",
    "sys.path.insert(0, \"..\")\n",
    "from xml_extractor import xml_extractor \n",
    "from potentials import potential_combiner\n",
    "from gromacs_interface_tools import gromacs_potential_maker\n",
    "\n",
    "\n",
    "#with open('data.txt', 'w') as outfile:  \n",
    "#    json.dump(data, outfile)\n",
    "\n"
   ]
  },
  {
   "cell_type": "code",
   "execution_count": null,
   "metadata": {
    "collapsed": true
   },
   "outputs": [],
   "source": [
    "potential_specs = [{'id': 'wca', 'name': 'weeks_chandler_anderson'}, \n",
    "                   {'id': 'dep', 'name': 'depletion'}, \n",
    "                   {'id': 'elec', 'name':'electrostatic_dlvo'}]"
   ]
  },
  {
   "cell_type": "code",
   "execution_count": 18,
   "metadata": {
    "collapsed": false
   },
   "outputs": [
    {
     "data": {
      "text/plain": [
       "[('wca', 'weeks_chandler_anderson'),\n",
       " ('dep', 'depletion'),\n",
       " ('elec', 'electrostatic_dlvo')]"
      ]
     },
     "execution_count": 18,
     "metadata": {},
     "output_type": "execute_result"
    }
   ],
   "source": [
    "{'wca': 'weeks_chandler_anderson',\n",
    " 'dep': 'depletion',\n",
    " 'elec': 'electrostatic_dlvo'}.items()"
   ]
  },
  {
   "cell_type": "code",
   "execution_count": 22,
   "metadata": {
    "collapsed": false
   },
   "outputs": [],
   "source": [
    "potential_specs = {'wca': 'weeks_chandler_anderson',\n",
    "                   'dep': 'depletion',\n",
    "                   'elec': 'electrostatic_dlvo'}\n",
    "\n",
    "with open('potential_specs.json', 'w') as outfile:  \n",
    "    json.dump(potential_specs, outfile, indent=4)"
   ]
  },
  {
   "cell_type": "code",
   "execution_count": 23,
   "metadata": {
    "collapsed": true
   },
   "outputs": [],
   "source": [
    "params_state = {'wca__d': [], 'wca__epsilon': [0.5, 200.0], 'wca__alpha': [], 'wca__max_ur': [], \n",
    "              'dep__rho_p': [0.0, 6.0], 'dep__d_p': [0.0, 2.0], 'dep__d': [], 'dep__w': [], \n",
    "              'elec__A': [0.0, 100.0], 'elec__z': [0.0, 10.0]}\n",
    "\n",
    "with open('params_state.json', 'w') as outfile:  \n",
    "    json.dump(params_state, outfile, indent=4)"
   ]
  },
  {
   "cell_type": "code",
   "execution_count": 24,
   "metadata": {
    "collapsed": true
   },
   "outputs": [],
   "source": [
    "params_val = {'wca__d': 1.0, 'wca__epsilon': 1.0, 'wca__alpha': 6.0, 'wca__max_ur': float(1e6), \n",
    "              'dep__rho_p': 6.0, 'dep__d_p': 0.6, 'dep__d': 1.0, 'dep__w': 50.0, \n",
    "              'elec__A': 1.0, 'elec__z': 2.0}\n",
    "\n",
    "with open('params_val.json', 'w') as outfile:  \n",
    "    json.dump(params_val, outfile, indent=4)"
   ]
  },
  {
   "cell_type": "code",
   "execution_count": 28,
   "metadata": {
    "collapsed": false
   },
   "outputs": [],
   "source": [
    "potential_specs_and_state = (\n",
    "{'specs': {'wca': 'weeks_chandler_anderson',\n",
    "           'dep': 'depletion',\n",
    "           'elec': 'electrostatic_dlvo'},\n",
    "'state': {'wca__d': {'opt': False}, \n",
    "          'wca__epsilon': {'opt': True, 'min': 0.2}, \n",
    "          'wca__alpha': {'opt': False}, \n",
    "          'wca__max_ur': {'opt': False}, \n",
    "          'dep__rho_p': {'opt': True, 'min': 0.0, 'max': 6.0}, \n",
    "          'dep__d_p': {'opt': True, 'min': 0.0, 'max': 1.0}, \n",
    "          'dep__d': {'opt': False}, \n",
    "          'dep__w': {'opt': False}, \n",
    "          'elec__A': {'opt': True, 'min': 0.0},\n",
    "          'elec__z': {'opt': True, 'min': 0.0, 'max': 6.0}}\n",
    "}\n",
    ")\n",
    "with open('potential_specs_and_state.json', 'w') as outfile:  \n",
    "    json.dump(potential_specs_and_state, outfile, indent=4)"
   ]
  },
  {
   "cell_type": "code",
   "execution_count": null,
   "metadata": {
    "collapsed": true
   },
   "outputs": [],
   "source": []
  },
  {
   "cell_type": "code",
   "execution_count": null,
   "metadata": {
    "collapsed": true
   },
   "outputs": [],
   "source": []
  },
  {
   "cell_type": "code",
   "execution_count": null,
   "metadata": {
    "collapsed": true
   },
   "outputs": [],
   "source": []
  },
  {
   "cell_type": "code",
   "execution_count": null,
   "metadata": {
    "collapsed": true
   },
   "outputs": [],
   "source": [
    "from numpy import array, arange\n",
    "import numdifftools as nd\n",
    "import scipy.integrate as integrate\n",
    "import re\n",
    "\n",
    "class SimulationPotentialConverter:\n",
    "    #placeholder for now\n",
    "    def __init__(self):\n",
    "        self.r_cut = None\n",
    "        return None\n",
    "    \n",
    "    #loads in the potential\n",
    "    def LoadPotential(self, potential, params_val):\n",
    "        self.ur_ = lambda x: potential.Potential(x, params_val)\n",
    "        self.dur_ = nd.Derivative(self.ur_)\n",
    "        return None\n",
    "    \n",
    "    #creates a tabulated version of the potential (and forces)\n",
    "    def TabulatePotential(self, r_table_max=20.0, dr=0.005):\n",
    "        self.r = arange(0.0, r_table_max, dr)\n",
    "        self.ur = self.ur_(self.r) #array([self.ur_(x) for x in self.r])\n",
    "        self.dur = self.dur_(self.r) #array([self.dur_(x) for x in self.r])\n",
    "        self.num_pts = len(self.r)\n",
    "        return None\n",
    "    \n",
    "    #optional cut and shift of potential according to the forces\n",
    "    def CutShiftTabulated(self, e_max=0.1, f_max=0.01, r_max=8.0, shift=False):\n",
    "        #identify an acceptable cut point\n",
    "        for i in range(self.num_pts-1, -1, -1):\n",
    "            if abs(self.dur[i]) > f_max:\n",
    "                i_cut = i + 1\n",
    "                break\n",
    "        self.r_cut = self.r[i_cut]\n",
    "        #error check\n",
    "        if self.ur[i_cut] > e_max:\n",
    "            raise Exception('The potential appears to be non-trivial at the force cutoff. This could mean the potential is being truncated improperly. On likely possibility is the r_max for tabulating the potential is to short and a finite energy low force region in the potential (e.g. a plateau) has been incorrectly identified as the cutoff.')\n",
    "        if self.r_cut > r_max:    \n",
    "            raise Exception('The potential cutoff has exceeded the user specified maximum.')\n",
    "        #cut and shift    \n",
    "        if shift:\n",
    "            self.ur[0:i_cut+1] = self.ur[0:i_cut+1] - self.ur[i_cut]\n",
    "            self.ur[i_cut+1:] = 0.0\n",
    "            self.dur[i_cut+1:] = 0.0   \n",
    "        return None\n",
    "    \n",
    "    #make the table file with proper format\n",
    "    def MakeTable(self, filename='./table.xvg'):\n",
    "        #error check\n",
    "        if self.r_cut is None:\n",
    "            raise AttributeError('Potential cutoff was not properly set before writing table file.')\n",
    "        f = open(filename, 'w')\n",
    "        for i in range(self.num_pts):\n",
    "            r_, ur_, dur_ = (self.r[i], self.ur[i], self.dur[i])\n",
    "            f.write('{:.10e}   {:.10e} {:.10e}   {:.10e} {:.10e}   {:.10e} {:.10e}\\n'.format(r_, 0.0, 0.0, 0.0, 0.0, ur_, -1.0*dur_))\n",
    "        f.close()\n",
    "        return None\n",
    "    \n",
    "    #replace the r_cut value\n",
    "    def InsertGromppCutoff(self, r_buffer=0.5, filename='./grompp.mdp'):\n",
    "        #error check\n",
    "        if self.r_cut is None:\n",
    "            raise AttributeError('Potential cutoff was not properly set before writing grompp file.')\n",
    "        #read in the data first\n",
    "        f = open(filename, 'r')\n",
    "        gromacs_data = f.read()\n",
    "        f.close()\n",
    "        #substitute the cutoff\n",
    "        r_cut_buff = self.r_cut + r_buffer\n",
    "        gromacs_data = re.sub(r'(rlist\\s*=\\s*).*', (r'\\g<1>%f' % r_cut_buff), gromacs_data)\n",
    "        gromacs_data = re.sub(r'(rcoulomb\\s*=\\s*).*', (r'\\g<1>%f' % r_cut_buff), gromacs_data)\n",
    "        gromacs_data = re.sub(r'(rvdw\\s*=\\s*).*', (r'\\g<1>%f' % r_cut_buff), gromacs_data)\n",
    "        #overwite the old data\n",
    "        f = open(filename, 'w')\n",
    "        f.write(gromacs_data)\n",
    "        f.close()\n",
    "        return None"
   ]
  }
 ],
 "metadata": {
  "kernelspec": {
   "display_name": "Python 2",
   "language": "python",
   "name": "python2"
  },
  "language_info": {
   "codemirror_mode": {
    "name": "ipython",
    "version": 2
   },
   "file_extension": ".py",
   "mimetype": "text/x-python",
   "name": "python",
   "nbconvert_exporter": "python",
   "pygments_lexer": "ipython2",
   "version": "2.7.13"
  }
 },
 "nbformat": 4,
 "nbformat_minor": 2
}
