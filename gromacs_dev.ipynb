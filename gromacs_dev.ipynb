{
 "cells": [
  {
   "cell_type": "markdown",
   "metadata": {},
   "source": [
    "### Test of the gromacs table maker"
   ]
  },
  {
   "cell_type": "code",
   "execution_count": 1,
   "metadata": {
    "collapsed": false
   },
   "outputs": [],
   "source": [
    "import sys\n",
    "sys.path.insert(0, \"..\")"
   ]
  },
  {
   "cell_type": "code",
   "execution_count": 2,
   "metadata": {
    "collapsed": false
   },
   "outputs": [
    {
     "name": "stdout",
     "output_type": "stream",
     "text": [
      "['..', '', 'C:\\\\Users\\\\rbj428\\\\AppData\\\\Local\\\\Continuum\\\\Anaconda2_3\\\\python27.zip', 'C:\\\\Users\\\\rbj428\\\\AppData\\\\Local\\\\Continuum\\\\Anaconda2_3\\\\DLLs', 'C:\\\\Users\\\\rbj428\\\\AppData\\\\Local\\\\Continuum\\\\Anaconda2_3\\\\lib', 'C:\\\\Users\\\\rbj428\\\\AppData\\\\Local\\\\Continuum\\\\Anaconda2_3\\\\lib\\\\plat-win', 'C:\\\\Users\\\\rbj428\\\\AppData\\\\Local\\\\Continuum\\\\Anaconda2_3\\\\lib\\\\lib-tk', 'C:\\\\Users\\\\rbj428\\\\AppData\\\\Local\\\\Continuum\\\\Anaconda2_3', 'C:\\\\Users\\\\rbj428\\\\AppData\\\\Local\\\\Continuum\\\\Anaconda2_3\\\\lib\\\\site-packages', 'C:\\\\Users\\\\rbj428\\\\AppData\\\\Local\\\\Continuum\\\\Anaconda2_3\\\\lib\\\\site-packages\\\\Sphinx-1.5.1-py2.7.egg', 'C:\\\\Users\\\\rbj428\\\\AppData\\\\Local\\\\Continuum\\\\Anaconda2_3\\\\lib\\\\site-packages\\\\win32', 'C:\\\\Users\\\\rbj428\\\\AppData\\\\Local\\\\Continuum\\\\Anaconda2_3\\\\lib\\\\site-packages\\\\win32\\\\lib', 'C:\\\\Users\\\\rbj428\\\\AppData\\\\Local\\\\Continuum\\\\Anaconda2_3\\\\lib\\\\site-packages\\\\Pythonwin', 'C:\\\\Users\\\\rbj428\\\\AppData\\\\Local\\\\Continuum\\\\Anaconda2_3\\\\lib\\\\site-packages\\\\sputnik-0.9.3-py2.7.egg', 'C:\\\\Users\\\\rbj428\\\\AppData\\\\Local\\\\Continuum\\\\Anaconda2_3\\\\lib\\\\site-packages\\\\IPython\\\\extensions', 'C:\\\\Users\\\\rbj428\\\\.ipython']\n"
     ]
    }
   ],
   "source": [
    "print sys.path"
   ]
  },
  {
   "cell_type": "markdown",
   "metadata": {},
   "source": [
    "**Make the potential**"
   ]
  },
  {
   "cell_type": "code",
   "execution_count": 3,
   "metadata": {
    "collapsed": false
   },
   "outputs": [],
   "source": [
    "from potentials import potential_combiner"
   ]
  },
  {
   "cell_type": "code",
   "execution_count": 4,
   "metadata": {
    "collapsed": true
   },
   "outputs": [],
   "source": [
    "potential_specs = {'wca': 'weeks_chandler_anderson',\n",
    "                   'dep': 'depletion',\n",
    "                   'elec': 'electrostatic_dlvo'}"
   ]
  },
  {
   "cell_type": "code",
   "execution_count": 5,
   "metadata": {
    "collapsed": false
   },
   "outputs": [],
   "source": [
    "potential = potential_combiner.Potential(potential_specs)"
   ]
  },
  {
   "cell_type": "code",
   "execution_count": 6,
   "metadata": {
    "collapsed": true
   },
   "outputs": [],
   "source": [
    "params_val = {'wca__d': True, 'wca__epsilon': True, 'wca__alpha': False, 'wca__max_ur': False, \n",
    "              'dep__rho_p': True, 'dep__d_p': True, 'dep__d': False, 'dep__w': False, \n",
    "              'elec__A': True, 'elec__z': True}"
   ]
  },
  {
   "cell_type": "code",
   "execution_count": 7,
   "metadata": {
    "collapsed": false
   },
   "outputs": [],
   "source": [
    "potential.SetParamsState(params_val)"
   ]
  },
  {
   "cell_type": "code",
   "execution_count": null,
   "metadata": {
    "collapsed": true
   },
   "outputs": [],
   "source": []
  },
  {
   "cell_type": "markdown",
   "metadata": {},
   "source": [
    "**Create the table maker**"
   ]
  },
  {
   "cell_type": "code",
   "execution_count": 8,
   "metadata": {
    "collapsed": false
   },
   "outputs": [],
   "source": [
    "from gromacs_interface_tools import gromacs_potential_maker"
   ]
  },
  {
   "cell_type": "code",
   "execution_count": 9,
   "metadata": {
    "collapsed": false
   },
   "outputs": [],
   "source": [
    "gromacs_potential_maker = gromacs_potential_maker.SimulationPotentialConverter()"
   ]
  },
  {
   "cell_type": "code",
   "execution_count": 10,
   "metadata": {
    "collapsed": true
   },
   "outputs": [],
   "source": [
    "params_val = {'wca__d': 1.0, 'wca__epsilon': 1.0, 'wca__alpha': 6.0, 'wca__max_ur': float(1e6), \n",
    "              'dep__rho_p': 6.0, 'dep__d_p': 0.6, 'dep__d': 1.0, 'dep__w': 50.0, \n",
    "              'elec__A': 1.0, 'elec__z': 2.0}"
   ]
  },
  {
   "cell_type": "code",
   "execution_count": 11,
   "metadata": {
    "collapsed": false
   },
   "outputs": [],
   "source": [
    "gromacs_potential_maker.LoadPotential(potential, params_val)"
   ]
  },
  {
   "cell_type": "code",
   "execution_count": 12,
   "metadata": {
    "collapsed": false
   },
   "outputs": [],
   "source": [
    "gromacs_potential_maker.TabulatePotential(r_table_max=15.0, dr=0.01)"
   ]
  },
  {
   "cell_type": "code",
   "execution_count": 13,
   "metadata": {
    "collapsed": false
   },
   "outputs": [],
   "source": [
    "gromacs_potential_maker.CutShiftTabulated(e_max=0.1, f_max=0.01, r_max=8.0, shift=False)"
   ]
  },
  {
   "cell_type": "code",
   "execution_count": 14,
   "metadata": {
    "collapsed": false
   },
   "outputs": [],
   "source": [
    "gromacs_potential_maker.MakeTable(filename='./example_table.xvg')"
   ]
  },
  {
   "cell_type": "code",
   "execution_count": 15,
   "metadata": {
    "collapsed": false
   },
   "outputs": [],
   "source": [
    "gromacs_potential_maker.InsertGromppCutoff(filename='./example_grompp.mdp')"
   ]
  },
  {
   "cell_type": "code",
   "execution_count": null,
   "metadata": {
    "collapsed": true
   },
   "outputs": [],
   "source": []
  },
  {
   "cell_type": "code",
   "execution_count": 22,
   "metadata": {
    "collapsed": false
   },
   "outputs": [],
   "source": [
    "potential_specs = {'wca': 'weeks_chandler_anderson',\n",
    "                   'dep': 'depletion',\n",
    "                   'elec': 'electrostatic_dlvo'}\n",
    "\n",
    "with open('potential_specs.json', 'w') as outfile:  \n",
    "    json.dump(potential_specs, outfile, indent=4)"
   ]
  },
  {
   "cell_type": "code",
   "execution_count": 23,
   "metadata": {
    "collapsed": true
   },
   "outputs": [],
   "source": [
    "params_state = {'wca__d': [], 'wca__epsilon': [0.5, 200.0], 'wca__alpha': [], 'wca__max_ur': [], \n",
    "              'dep__rho_p': [0.0, 6.0], 'dep__d_p': [0.0, 2.0], 'dep__d': [], 'dep__w': [], \n",
    "              'elec__A': [0.0, 100.0], 'elec__z': [0.0, 10.0]}\n",
    "\n",
    "with open('params_state.json', 'w') as outfile:  \n",
    "    json.dump(params_state, outfile, indent=4)"
   ]
  },
  {
   "cell_type": "code",
   "execution_count": 24,
   "metadata": {
    "collapsed": true
   },
   "outputs": [],
   "source": [
    "params_val = {'wca__d': 1.0, 'wca__epsilon': 1.0, 'wca__alpha': 6.0, 'wca__max_ur': float(1e6), \n",
    "              'dep__rho_p': 6.0, 'dep__d_p': 0.6, 'dep__d': 1.0, 'dep__w': 50.0, \n",
    "              'elec__A': 1.0, 'elec__z': 2.0}\n",
    "\n",
    "with open('params_val.json', 'w') as outfile:  \n",
    "    json.dump(params_val, outfile, indent=4)"
   ]
  },
  {
   "cell_type": "code",
   "execution_count": 28,
   "metadata": {
    "collapsed": false
   },
   "outputs": [],
   "source": [
    "potential_specs_and_state = (\n",
    "{'specs': {'wca': 'weeks_chandler_anderson',\n",
    "           'dep': 'depletion',\n",
    "           'elec': 'electrostatic_dlvo'},\n",
    "'state': {'wca__d': {'opt': False}, \n",
    "          'wca__epsilon': {'opt': True, 'min': 0.2}, \n",
    "          'wca__alpha': {'opt': False}, \n",
    "          'wca__max_ur': {'opt': False}, \n",
    "          'dep__rho_p': {'opt': True, 'min': 0.0, 'max': 6.0}, \n",
    "          'dep__d_p': {'opt': True, 'min': 0.0, 'max': 1.0}, \n",
    "          'dep__d': {'opt': False}, \n",
    "          'dep__w': {'opt': False}, \n",
    "          'elec__A': {'opt': True, 'min': 0.0},\n",
    "          'elec__z': {'opt': True, 'min': 0.0, 'max': 6.0}}\n",
    "}\n",
    ")\n",
    "with open('potential_specs_and_state.json', 'w') as outfile:  \n",
    "    json.dump(potential_specs_and_state, outfile, indent=4)"
   ]
  },
  {
   "cell_type": "code",
   "execution_count": 2,
   "metadata": {
    "collapsed": true
   },
   "outputs": [],
   "source": [
    "from numpy import arange"
   ]
  },
  {
   "cell_type": "code",
   "execution_count": 6,
   "metadata": {
    "collapsed": false
   },
   "outputs": [
    {
     "data": {
      "text/plain": [
       "array([ 0.  ,  0.01,  0.02,  0.03,  0.04,  0.05,  0.06,  0.07,  0.08,\n",
       "        0.09,  0.1 ,  0.11,  0.12,  0.13,  0.14,  0.15,  0.16,  0.17,\n",
       "        0.18,  0.19,  0.2 ,  0.21,  0.22,  0.23,  0.24,  0.25,  0.26,\n",
       "        0.27,  0.28,  0.29,  0.3 ,  0.31,  0.32,  0.33,  0.34,  0.35,\n",
       "        0.36,  0.37,  0.38,  0.39,  0.4 ,  0.41,  0.42,  0.43,  0.44,\n",
       "        0.45,  0.46,  0.47,  0.48,  0.49,  0.5 ,  0.51,  0.52,  0.53,\n",
       "        0.54,  0.55,  0.56,  0.57,  0.58,  0.59,  0.6 ,  0.61,  0.62,\n",
       "        0.63,  0.64,  0.65,  0.66,  0.67,  0.68,  0.69,  0.7 ,  0.71,\n",
       "        0.72,  0.73,  0.74,  0.75,  0.76,  0.77,  0.78,  0.79,  0.8 ,\n",
       "        0.81,  0.82,  0.83,  0.84,  0.85,  0.86,  0.87,  0.88,  0.89,\n",
       "        0.9 ,  0.91,  0.92,  0.93,  0.94,  0.95,  0.96,  0.97,  0.98,\n",
       "        0.99,  1.  ,  1.01,  1.02,  1.03,  1.04,  1.05,  1.06,  1.07,\n",
       "        1.08,  1.09,  1.1 ,  1.11,  1.12,  1.13,  1.14,  1.15,  1.16,\n",
       "        1.17,  1.18,  1.19,  1.2 ,  1.21,  1.22,  1.23,  1.24,  1.25,\n",
       "        1.26,  1.27,  1.28,  1.29,  1.3 ,  1.31,  1.32,  1.33,  1.34,\n",
       "        1.35,  1.36,  1.37,  1.38,  1.39,  1.4 ,  1.41,  1.42,  1.43,\n",
       "        1.44,  1.45,  1.46,  1.47,  1.48,  1.49,  1.5 ,  1.51,  1.52,\n",
       "        1.53,  1.54,  1.55,  1.56,  1.57,  1.58,  1.59,  1.6 ,  1.61,\n",
       "        1.62,  1.63,  1.64,  1.65,  1.66,  1.67,  1.68,  1.69,  1.7 ,\n",
       "        1.71,  1.72,  1.73,  1.74,  1.75,  1.76,  1.77,  1.78,  1.79,\n",
       "        1.8 ,  1.81,  1.82,  1.83,  1.84,  1.85,  1.86,  1.87,  1.88,\n",
       "        1.89,  1.9 ,  1.91,  1.92,  1.93,  1.94,  1.95,  1.96,  1.97,\n",
       "        1.98,  1.99,  2.  ,  2.01,  2.02,  2.03,  2.04,  2.05,  2.06,\n",
       "        2.07,  2.08,  2.09,  2.1 ,  2.11,  2.12,  2.13,  2.14,  2.15,\n",
       "        2.16,  2.17,  2.18,  2.19,  2.2 ,  2.21,  2.22,  2.23,  2.24,\n",
       "        2.25,  2.26,  2.27,  2.28,  2.29,  2.3 ,  2.31,  2.32,  2.33,\n",
       "        2.34,  2.35,  2.36,  2.37,  2.38,  2.39,  2.4 ,  2.41,  2.42,\n",
       "        2.43,  2.44,  2.45,  2.46,  2.47,  2.48,  2.49,  2.5 ,  2.51,\n",
       "        2.52,  2.53,  2.54,  2.55,  2.56,  2.57,  2.58,  2.59,  2.6 ,\n",
       "        2.61,  2.62,  2.63,  2.64,  2.65,  2.66,  2.67,  2.68,  2.69,\n",
       "        2.7 ,  2.71,  2.72,  2.73,  2.74,  2.75,  2.76,  2.77,  2.78,\n",
       "        2.79,  2.8 ,  2.81,  2.82,  2.83,  2.84,  2.85,  2.86,  2.87,\n",
       "        2.88,  2.89,  2.9 ,  2.91,  2.92,  2.93,  2.94,  2.95,  2.96,\n",
       "        2.97,  2.98,  2.99,  3.  ,  3.01,  3.02,  3.03,  3.04,  3.05,\n",
       "        3.06,  3.07,  3.08,  3.09,  3.1 ,  3.11,  3.12,  3.13,  3.14,\n",
       "        3.15,  3.16,  3.17,  3.18,  3.19,  3.2 ,  3.21,  3.22,  3.23,\n",
       "        3.24,  3.25,  3.26,  3.27,  3.28,  3.29,  3.3 ,  3.31,  3.32,\n",
       "        3.33,  3.34,  3.35,  3.36,  3.37,  3.38,  3.39,  3.4 ,  3.41,\n",
       "        3.42,  3.43,  3.44,  3.45,  3.46,  3.47,  3.48,  3.49,  3.5 ,\n",
       "        3.51,  3.52,  3.53,  3.54,  3.55,  3.56,  3.57,  3.58,  3.59,\n",
       "        3.6 ,  3.61,  3.62,  3.63,  3.64,  3.65,  3.66,  3.67,  3.68,\n",
       "        3.69,  3.7 ,  3.71,  3.72,  3.73,  3.74,  3.75,  3.76,  3.77,\n",
       "        3.78,  3.79,  3.8 ,  3.81,  3.82,  3.83,  3.84,  3.85,  3.86,\n",
       "        3.87,  3.88,  3.89,  3.9 ,  3.91,  3.92,  3.93,  3.94,  3.95,\n",
       "        3.96,  3.97,  3.98,  3.99,  4.  ,  4.01,  4.02,  4.03,  4.04,\n",
       "        4.05,  4.06,  4.07,  4.08,  4.09,  4.1 ,  4.11,  4.12,  4.13,\n",
       "        4.14,  4.15,  4.16,  4.17,  4.18,  4.19,  4.2 ,  4.21,  4.22,\n",
       "        4.23,  4.24,  4.25,  4.26,  4.27,  4.28,  4.29,  4.3 ,  4.31,\n",
       "        4.32,  4.33,  4.34,  4.35,  4.36,  4.37,  4.38,  4.39,  4.4 ,\n",
       "        4.41,  4.42,  4.43,  4.44,  4.45,  4.46,  4.47,  4.48,  4.49,\n",
       "        4.5 ,  4.51,  4.52,  4.53,  4.54,  4.55,  4.56,  4.57,  4.58,\n",
       "        4.59,  4.6 ,  4.61,  4.62,  4.63,  4.64,  4.65,  4.66,  4.67,\n",
       "        4.68,  4.69,  4.7 ,  4.71,  4.72,  4.73,  4.74,  4.75,  4.76,\n",
       "        4.77,  4.78,  4.79,  4.8 ,  4.81,  4.82,  4.83,  4.84,  4.85,\n",
       "        4.86,  4.87,  4.88,  4.89,  4.9 ,  4.91,  4.92,  4.93,  4.94,\n",
       "        4.95,  4.96,  4.97,  4.98,  4.99,  5.  ])"
      ]
     },
     "execution_count": 6,
     "metadata": {},
     "output_type": "execute_result"
    }
   ],
   "source": [
    "arange(0.0, 5.0 + 0.01, 0.01)"
   ]
  },
  {
   "cell_type": "code",
   "execution_count": null,
   "metadata": {
    "collapsed": true
   },
   "outputs": [],
   "source": []
  },
  {
   "cell_type": "code",
   "execution_count": null,
   "metadata": {
    "collapsed": true
   },
   "outputs": [],
   "source": [
    "from numpy import array, arange\n",
    "import numdifftools as nd\n",
    "import scipy.integrate as integrate\n",
    "import re\n",
    "\n",
    "class SimulationPotentialConverter:\n",
    "    #placeholder for now\n",
    "    def __init__(self):\n",
    "        self.r_cut = None\n",
    "        return None\n",
    "    \n",
    "    #loads in the potential\n",
    "    def LoadPotential(self, potential, params_val):\n",
    "        self.ur_ = lambda x: potential.Potential(x, params_val)\n",
    "        self.dur_ = nd.Derivative(self.ur_)\n",
    "        return None\n",
    "    \n",
    "    #creates a tabulated version of the potential (and forces)\n",
    "    def TabulatePotential(self, r_table_max=20.0, dr=0.005):\n",
    "        self.r = arange(0.0, r_table_max, dr)\n",
    "        self.ur = self.ur_(self.r) #array([self.ur_(x) for x in self.r])\n",
    "        self.dur = self.dur_(self.r) #array([self.dur_(x) for x in self.r])\n",
    "        self.num_pts = len(self.r)\n",
    "        return None\n",
    "    \n",
    "    #optional cut and shift of potential according to the forces\n",
    "    def CutShiftTabulated(self, e_max=0.1, f_max=0.01, r_max=8.0, shift=False):\n",
    "        #identify an acceptable cut point\n",
    "        for i in range(self.num_pts-1, -1, -1):\n",
    "            if abs(self.dur[i]) > f_max:\n",
    "                i_cut = i + 1\n",
    "                break\n",
    "        self.r_cut = self.r[i_cut]\n",
    "        #error check\n",
    "        if self.ur[i_cut] > e_max:\n",
    "            raise Exception('The potential appears to be non-trivial at the force cutoff. This could mean the potential is being truncated improperly. On likely possibility is the r_max for tabulating the potential is to short and a finite energy low force region in the potential (e.g. a plateau) has been incorrectly identified as the cutoff.')\n",
    "        if self.r_cut > r_max:    \n",
    "            raise Exception('The potential cutoff has exceeded the user specified maximum.')\n",
    "        #cut and shift    \n",
    "        if shift:\n",
    "            self.ur[0:i_cut+1] = self.ur[0:i_cut+1] - self.ur[i_cut]\n",
    "            self.ur[i_cut+1:] = 0.0\n",
    "            self.dur[i_cut+1:] = 0.0   \n",
    "        return None\n",
    "    \n",
    "    #make the table file with proper format\n",
    "    def MakeTable(self, filename='./table.xvg'):\n",
    "        #error check\n",
    "        if self.r_cut is None:\n",
    "            raise AttributeError('Potential cutoff was not properly set before writing table file.')\n",
    "        f = open(filename, 'w')\n",
    "        for i in range(self.num_pts):\n",
    "            r_, ur_, dur_ = (self.r[i], self.ur[i], self.dur[i])\n",
    "            f.write('{:.10e}   {:.10e} {:.10e}   {:.10e} {:.10e}   {:.10e} {:.10e}\\n'.format(r_, 0.0, 0.0, 0.0, 0.0, ur_, -1.0*dur_))\n",
    "        f.close()\n",
    "        return None\n",
    "    \n",
    "    #replace the r_cut value\n",
    "    def InsertGromppCutoff(self, r_buffer=0.5, filename='./grompp.mdp'):\n",
    "        #error check\n",
    "        if self.r_cut is None:\n",
    "            raise AttributeError('Potential cutoff was not properly set before writing grompp file.')\n",
    "        #read in the data first\n",
    "        f = open(filename, 'r')\n",
    "        gromacs_data = f.read()\n",
    "        f.close()\n",
    "        #substitute the cutoff\n",
    "        r_cut_buff = self.r_cut + r_buffer\n",
    "        gromacs_data = re.sub(r'(rlist\\s*=\\s*).*', (r'\\g<1>%f' % r_cut_buff), gromacs_data)\n",
    "        gromacs_data = re.sub(r'(rcoulomb\\s*=\\s*).*', (r'\\g<1>%f' % r_cut_buff), gromacs_data)\n",
    "        gromacs_data = re.sub(r'(rvdw\\s*=\\s*).*', (r'\\g<1>%f' % r_cut_buff), gromacs_data)\n",
    "        #overwite the old data\n",
    "        f = open(filename, 'w')\n",
    "        f.write(gromacs_data)\n",
    "        f.close()\n",
    "        return None"
   ]
  }
 ],
 "metadata": {
  "kernelspec": {
   "display_name": "Python 2",
   "language": "python",
   "name": "python2"
  },
  "language_info": {
   "codemirror_mode": {
    "name": "ipython",
    "version": 2
   },
   "file_extension": ".py",
   "mimetype": "text/x-python",
   "name": "python",
   "nbconvert_exporter": "python",
   "pygments_lexer": "ipython2",
   "version": "2.7.13"
  }
 },
 "nbformat": 4,
 "nbformat_minor": 2
}
