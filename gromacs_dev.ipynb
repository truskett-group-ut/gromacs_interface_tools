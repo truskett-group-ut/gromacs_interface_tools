{
 "cells": [
  {
   "cell_type": "markdown",
   "metadata": {},
   "source": [
    "### Test of the gromacs table maker"
   ]
  },
  {
   "cell_type": "code",
   "execution_count": 1,
   "metadata": {
    "collapsed": true
   },
   "outputs": [],
   "source": [
    "import sys\n",
    "sys.path.append(\"..\")"
   ]
  },
  {
   "cell_type": "code",
   "execution_count": 2,
   "metadata": {
    "collapsed": false
   },
   "outputs": [
    {
     "name": "stdout",
     "output_type": "stream",
     "text": [
      "['', 'C:\\\\Users\\\\rbj428\\\\AppData\\\\Local\\\\Continuum\\\\Anaconda2_3\\\\python27.zip', 'C:\\\\Users\\\\rbj428\\\\AppData\\\\Local\\\\Continuum\\\\Anaconda2_3\\\\DLLs', 'C:\\\\Users\\\\rbj428\\\\AppData\\\\Local\\\\Continuum\\\\Anaconda2_3\\\\lib', 'C:\\\\Users\\\\rbj428\\\\AppData\\\\Local\\\\Continuum\\\\Anaconda2_3\\\\lib\\\\plat-win', 'C:\\\\Users\\\\rbj428\\\\AppData\\\\Local\\\\Continuum\\\\Anaconda2_3\\\\lib\\\\lib-tk', 'C:\\\\Users\\\\rbj428\\\\AppData\\\\Local\\\\Continuum\\\\Anaconda2_3', 'C:\\\\Users\\\\rbj428\\\\AppData\\\\Local\\\\Continuum\\\\Anaconda2_3\\\\lib\\\\site-packages', 'C:\\\\Users\\\\rbj428\\\\AppData\\\\Local\\\\Continuum\\\\Anaconda2_3\\\\lib\\\\site-packages\\\\Sphinx-1.5.1-py2.7.egg', 'C:\\\\Users\\\\rbj428\\\\AppData\\\\Local\\\\Continuum\\\\Anaconda2_3\\\\lib\\\\site-packages\\\\win32', 'C:\\\\Users\\\\rbj428\\\\AppData\\\\Local\\\\Continuum\\\\Anaconda2_3\\\\lib\\\\site-packages\\\\win32\\\\lib', 'C:\\\\Users\\\\rbj428\\\\AppData\\\\Local\\\\Continuum\\\\Anaconda2_3\\\\lib\\\\site-packages\\\\Pythonwin', 'C:\\\\Users\\\\rbj428\\\\AppData\\\\Local\\\\Continuum\\\\Anaconda2_3\\\\lib\\\\site-packages\\\\sputnik-0.9.3-py2.7.egg', 'C:\\\\Users\\\\rbj428\\\\AppData\\\\Local\\\\Continuum\\\\Anaconda2_3\\\\lib\\\\site-packages\\\\IPython\\\\extensions', 'C:\\\\Users\\\\rbj428\\\\.ipython', '..']\n"
     ]
    }
   ],
   "source": [
    "print sys.path"
   ]
  },
  {
   "cell_type": "code",
   "execution_count": 32,
   "metadata": {
    "collapsed": false
   },
   "outputs": [],
   "source": [
    "from numpy import array, arange\n",
    "import numdifftools as nd\n",
    "import scipy.integrate as integrate\n",
    "import re\n",
    "\n",
    "class GromacsPotentialMaker:\n",
    "    #placeholder for now\n",
    "    def __init__(self, table_filename='.\\table.xvg', grompp_filename='.\\grompp.mdp'):\n",
    "        return None\n",
    "    \n",
    "    #loads in the potential\n",
    "    def LoadPotential(self, potential, params_val):\n",
    "        self.ur_ = lambda x: potential.Potential(x, params_val)\n",
    "        self.dur_ = nd.Derivative(self.ur_)\n",
    "        return None\n",
    "    \n",
    "    #creates a tabulated version of the potential (and forces)\n",
    "    def TabulatePotential(self, r_max=16.0, dr=0.005):\n",
    "        self.r = arange(0.0, r_max, dr)\n",
    "        self.ur = array([self.ur_(x) for x in self.r])\n",
    "        self.dur = array([self.dur_(x) for x in self.r])\n",
    "        self.num_pts = len(self.r)\n",
    "        return None\n",
    "    \n",
    "    #optional cut and shift of potential according to the forces\n",
    "    def CutShiftTabulated(self, f_max=0.01):\n",
    "        #identify an acceptable cut point\n",
    "        for i in range(self.num_pts-1, -1, -1):\n",
    "            if abs(self.dur[i]) > f_max:\n",
    "                i_cut = i + 1\n",
    "                break\n",
    "        #cut and shift\n",
    "        self.ur[0:i_cut+1] = self.ur[0:i_cut+1] - self.ur[i_cut]\n",
    "        self.ur[i_cut+1:] = 0.0\n",
    "        self.dur[i_cut+1:] = 0.0   \n",
    "        self.r_cut = self.r[i_cut]\n",
    "        return None\n",
    "    \n",
    "    #make the table file with proper format\n",
    "    def MakeTable(self, filename):\n",
    "        f = open(filename, 'w')\n",
    "        for i in range(self.num_pts):\n",
    "            r_, ur_, dur_ = (self.r[i], self.ur[i], self.dur[i])\n",
    "            f.write('{:.10e}   {:.10e} {:.10e}   {:.10e} {:.10e}   {:.10e} {:.10e}\\n'.format(r_, 0.0, 0.0, 0.0, 0.0, ur_, -1.0*dur_))\n",
    "        f.close()\n",
    "    \n",
    "    #replace the r_cut value\n",
    "    def InsertGromppCutoff(self, r_buffer):\n",
    "        '(rlist\\s*=\\s*)\\d'\n",
    "        'rcoulomb\\s*=\\s*(4.565)'\n",
    "        'rvdw                     = 4.565'\n",
    "        \n",
    "        re.sub(r'(\\_\\_R_CUT\\_\\_)', )\n",
    "        None"
   ]
  },
  {
   "cell_type": "markdown",
   "metadata": {},
   "source": [
    "**Make the potential**"
   ]
  },
  {
   "cell_type": "code",
   "execution_count": 18,
   "metadata": {
    "collapsed": false
   },
   "outputs": [],
   "source": [
    "from potentials import potential_combiner"
   ]
  },
  {
   "cell_type": "code",
   "execution_count": 19,
   "metadata": {
    "collapsed": true
   },
   "outputs": [],
   "source": [
    "potential_specs = [('wca', 'weeks_chandler_anderson', None)]#, \n",
    "                   #('dep', 'depletion', None), \n",
    "                   #('elec', 'electrostatic_dlvo', None)]"
   ]
  },
  {
   "cell_type": "code",
   "execution_count": 20,
   "metadata": {
    "collapsed": true
   },
   "outputs": [],
   "source": [
    "potential = potential_combiner.Potential(potential_specs)"
   ]
  },
  {
   "cell_type": "code",
   "execution_count": 21,
   "metadata": {
    "collapsed": true
   },
   "outputs": [],
   "source": [
    "params_val = {'wca__d': True, 'wca__epsilon': True, 'wca__alpha': False, 'wca__max_ur': False}#, \n",
    "              #'dep__rho_p': True, 'dep__d_p': True, 'dep__d': False, 'dep__w': False, \n",
    "              #'elec__A': True, 'elec__z': True}"
   ]
  },
  {
   "cell_type": "code",
   "execution_count": 22,
   "metadata": {
    "collapsed": false
   },
   "outputs": [],
   "source": [
    "potential.SetParamsState(params_val)"
   ]
  },
  {
   "cell_type": "code",
   "execution_count": null,
   "metadata": {
    "collapsed": true
   },
   "outputs": [],
   "source": []
  },
  {
   "cell_type": "markdown",
   "metadata": {},
   "source": [
    "**Create the table maker**"
   ]
  },
  {
   "cell_type": "code",
   "execution_count": 23,
   "metadata": {
    "collapsed": true
   },
   "outputs": [],
   "source": [
    "gromacs_table_maker = GromacsTableMaker()"
   ]
  },
  {
   "cell_type": "code",
   "execution_count": 24,
   "metadata": {
    "collapsed": true
   },
   "outputs": [],
   "source": [
    "params_val = {'wca__d': 1.0, 'wca__epsilon': 1.0, 'wca__alpha': 6.0, 'wca__max_ur': float(1e6)}#, \n",
    "              #'dep__rho_p': 6.0, 'dep__d_p': 0.6, 'dep__d': 1.0, 'dep__w': 50.0, \n",
    "              #'elec__A': 1.0, 'elec__z': 2.0}"
   ]
  },
  {
   "cell_type": "code",
   "execution_count": 25,
   "metadata": {
    "collapsed": false
   },
   "outputs": [],
   "source": [
    "gromacs_table_maker.LoadPotential(potential, params_val)"
   ]
  },
  {
   "cell_type": "code",
   "execution_count": 26,
   "metadata": {
    "collapsed": false
   },
   "outputs": [],
   "source": [
    "gromacs_table_maker.TabulatePotential(r_max=15.0, dr=0.01)"
   ]
  },
  {
   "cell_type": "code",
   "execution_count": 33,
   "metadata": {
    "collapsed": false
   },
   "outputs": [
    {
     "data": {
      "text/plain": [
       "1.1300000000000001"
      ]
     },
     "execution_count": 33,
     "metadata": {},
     "output_type": "execute_result"
    }
   ],
   "source": [
    "gromacs_table_maker.CutShiftTabulated()"
   ]
  },
  {
   "cell_type": "code",
   "execution_count": 28,
   "metadata": {
    "collapsed": true
   },
   "outputs": [],
   "source": [
    "gromacs_table_maker.MakeTable('example_table.xvg')"
   ]
  },
  {
   "cell_type": "code",
   "execution_count": 34,
   "metadata": {
    "collapsed": true
   },
   "outputs": [],
   "source": [
    "import re"
   ]
  },
  {
   "cell_type": "code",
   "execution_count": 35,
   "metadata": {
    "collapsed": false
   },
   "outputs": [
    {
     "data": {
      "text/plain": [
       "'2.345,1234.9'"
      ]
     },
     "execution_count": 35,
     "metadata": {},
     "output_type": "execute_result"
    }
   ],
   "source": [
    "re.sub(r'(\\d),\\s+(\\d)', r'\\1,\\2', '2.345,    1234.9')"
   ]
  },
  {
   "cell_type": "code",
   "execution_count": null,
   "metadata": {
    "collapsed": true
   },
   "outputs": [],
   "source": [
    "re.sub"
   ]
  }
 ],
 "metadata": {
  "kernelspec": {
   "display_name": "Python 2",
   "language": "python",
   "name": "python2"
  },
  "language_info": {
   "codemirror_mode": {
    "name": "ipython",
    "version": 2
   },
   "file_extension": ".py",
   "mimetype": "text/x-python",
   "name": "python",
   "nbconvert_exporter": "python",
   "pygments_lexer": "ipython2",
   "version": "2.7.13"
  }
 },
 "nbformat": 4,
 "nbformat_minor": 2
}
